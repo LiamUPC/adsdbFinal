{
 "cells": [
  {
   "attachments": {},
   "cell_type": "markdown",
   "metadata": {},
   "source": [
    "<h3>Database contents</h3>\n",
    "\n",
    "<p>There are two type of tables in this database. We have:</p>\n",
    "\n",
    "<ul>\n",
    "    <li>crimes tables</li>\n",
    "    <ul>\n",
    "        <li>Crime ID</li>\n",
    "        <li>Month</li>\n",
    "        <li>Reported by</li>\n",
    "        <li>Falls within</li>\n",
    "        <li>Longitude</li>\n",
    "        <li>Latitude</li>\n",
    "        <li>Location</li>\n",
    "        <li>LSOA code</li>\n",
    "        <li>LSOA name</li>\n",
    "        <li>Crime type</li>\n",
    "        <li>Last outcome category</li>\n",
    "        <li>Context</li>\n",
    "    </ul>\n",
    "    <li>economicStatus table</li>\n",
    "    <ul>\n",
    "        <li>Month</li>\n",
    "        <li>District</li>\n",
    "        <li>Economically inactive</li>\n",
    "        <li>Employed</li>\n",
    "        <li>Unemployed</li>\n",
    "    </ul>\n",
    "    <li>prices tables</li>\n",
    "    <ul>\n",
    "        <li>OrganisationLabel</li>\n",
    "        <li>OrganisationURI</li>\n",
    "        <li>PublishedDate</li>\n",
    "        <li>LatestData</li>\n",
    "        <li>DurationFrom</li>\n",
    "        <li>DurationTo</li>\n",
    "        <li>ReportingPeriodType</li>\n",
    "        <li>Month</li>\n",
    "        <li>GeoEntityName</li>\n",
    "        <li>GeoCode</li>\n",
    "        <li>GeoName</li>\n",
    "        <li>GeoURI</li>\n",
    "        <li>AveragePrice</li>\n",
    "        <li>AveragePriceDetached</li>\n",
    "        <li>AveragePriceSemiDetached</li>\n",
    "        <li>AveragePriceTerraced</li>\n",
    "        <li>AveragePriceFlatOrMaisonette</li>\n",
    "    </ul>\n",
    "</ul>"
   ]
  },
  {
   "cell_type": "code",
   "execution_count": 1,
   "metadata": {},
   "outputs": [
    {
     "name": "stdout",
     "output_type": "stream",
     "text": [
      "                               name\n",
      "0     crimes202006t2023011216_09_20\n",
      "1     crimes202007t2023011216_09_20\n",
      "2     crimes202008t2023011216_09_20\n",
      "3     crimes202009t2023011216_09_20\n",
      "4     crimes202010t2023011216_09_20\n",
      "5     crimes202011t2023011216_09_20\n",
      "6     crimes202012t2023011216_09_20\n",
      "7     crimes202101t2023011216_09_20\n",
      "8     crimes202102t2023011216_09_20\n",
      "9     crimes202103t2023011216_09_20\n",
      "10    crimes202104t2023011216_09_20\n",
      "11    crimes202105t2023011216_09_20\n",
      "12    crimes202106t2023011216_09_20\n",
      "13    crimes202107t2023011216_09_20\n",
      "14    crimes202108t2023011216_09_20\n",
      "15    crimes202109t2023011216_09_20\n",
      "16    crimes202110t2023011216_09_20\n",
      "17    crimes202111t2023011216_09_20\n",
      "18    crimes202112t2023011216_09_20\n",
      "19    crimes202201t2023011216_09_20\n",
      "20    crimes202202t2023011216_09_20\n",
      "21    crimes202203t2023011216_09_20\n",
      "22    crimes202204t2023011216_09_20\n",
      "23    crimes202205t2023011216_09_20\n",
      "24    crimes202206t2023011216_09_20\n",
      "25  economicStatust2023011216_09_20\n",
      "26          pricest2023011216_09_20\n"
     ]
    }
   ],
   "source": [
    "import duckdb\n",
    "\n",
    "con = duckdb.connect(\"../../data/formatted/crimesPrices.db\")\n",
    "tables = con.execute(\"SHOW TABLES\").df()\n",
    "print(tables)"
   ]
  }
 ],
 "metadata": {
  "kernelspec": {
   "display_name": "Python 3",
   "language": "python",
   "name": "python3"
  },
  "language_info": {
   "codemirror_mode": {
    "name": "ipython",
    "version": 3
   },
   "file_extension": ".py",
   "mimetype": "text/x-python",
   "name": "python",
   "nbconvert_exporter": "python",
   "pygments_lexer": "ipython3",
   "version": "3.11.1"
  },
  "orig_nbformat": 4,
  "vscode": {
   "interpreter": {
    "hash": "aee8b7b246df8f9039afb4144a1f6fd8d2ca17a180786b69acc140d282b71a49"
   }
  }
 },
 "nbformat": 4,
 "nbformat_minor": 2
}

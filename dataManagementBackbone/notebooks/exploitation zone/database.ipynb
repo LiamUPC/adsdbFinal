{
 "cells": [
  {
   "attachments": {},
   "cell_type": "markdown",
   "metadata": {},
   "source": [
    "<h3>Database contents</h3>\n",
    "\n",
    "In this step we create or insert to the existing database. We have a table joining both tables from the trusted zone. We join them based on the district and month of crimes and prices.\n",
    "\n",
    "From the prices table we use:\n",
    "\n",
    "<ul>\n",
    "  <li>Month</li>\n",
    "  <li>District (previously Geo Name)</li>\n",
    "  <li>AvgPrice</li>\n",
    "  <li>AvgPriceDetached</li>\n",
    "  <li>AvgPriceSemiDetached</li>\n",
    "  <li>AvgPriceTerraced</li>\n",
    "  <li>AvgPriceFlatOrMaisonette</li>\n",
    "</ul>\n",
    "\n",
    "From the economicStatus table we use:\n",
    "<ul>\n",
    "    <li>Economically inactive</li>\n",
    "    <li>Employed</li>\n",
    "    <li>Unemployed</li>\n",
    "</ul>\n",
    "\n",
    "From the crimes table we use group by month, district (previously LSOA name) and crime type. Using that we created a column with a count, mean latitude and mean longitude for each crime type. So the columns in the new table are the follwing:\n",
    "\n",
    "<ul>\n",
    "  <li>x Lon</li>\n",
    "  <li>x Lat</li>\n",
    "  <li>x Count</li>\n",
    "</ul>\n",
    "\n",
    "Where x takes the values of:\n",
    "\n",
    "<ul>\n",
    "  <li>Anti-social beahavour</li>\n",
    "  <li>Criminal damage and arson</li>\n",
    "  <li>Violence and sexual offences</li>\n",
    "  <li>Other crime</li>\n",
    "  <li>Public order</li>\n",
    "  <li>Vehicle crime</li>\n",
    "  <li>Burglary</li>\n",
    "  <li>Drugs</li>\n",
    "  <li>Theft</li>\n",
    "  <li>Possesion of weapons</li>\n",
    "  <li>Shoplifting and Robbery</li>\n",
    "</ul>"
   ]
  },
  {
   "cell_type": "code",
   "execution_count": 6,
   "metadata": {},
   "outputs": [
    {
     "name": "stdout",
     "output_type": "stream",
     "text": [
      "           name\n",
      "0  crimesPrices\n",
      "['Boston' 'East Lindsey' 'Lincoln' 'North Kesteven' 'South Holland'\n",
      " 'South Kesteven' 'West Lindsey']\n"
     ]
    }
   ],
   "source": [
    "import duckdb\n",
    "\n",
    "con = duckdb.connect(\"../../data/exploitation/crimesPrices.db\")\n",
    "tables = con.execute(\"SHOW TABLES\").df()\n",
    "print(tables)\n",
    "\n",
    "df = con.execute(\"SELECT * FROM crimesPrices\").df()\n",
    "\n",
    "print(df['District'].unique())"
   ]
  }
 ],
 "metadata": {
  "kernelspec": {
   "display_name": "Python 3",
   "language": "python",
   "name": "python3"
  },
  "language_info": {
   "codemirror_mode": {
    "name": "ipython",
    "version": 3
   },
   "file_extension": ".py",
   "mimetype": "text/x-python",
   "name": "python",
   "nbconvert_exporter": "python",
   "pygments_lexer": "ipython3",
   "version": "3.11.1 (v3.11.1:a7a450f84a, Dec  6 2022, 15:24:06) [Clang 13.0.0 (clang-1300.0.29.30)]"
  },
  "orig_nbformat": 4,
  "vscode": {
   "interpreter": {
    "hash": "aee8b7b246df8f9039afb4144a1f6fd8d2ca17a180786b69acc140d282b71a49"
   }
  }
 },
 "nbformat": 4,
 "nbformat_minor": 2
}

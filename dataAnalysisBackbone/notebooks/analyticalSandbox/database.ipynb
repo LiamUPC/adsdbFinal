{
 "cells": [
  {
   "attachments": {},
   "cell_type": "markdown",
   "metadata": {},
   "source": [
    "<h3>Database contents</h3>\n",
    "\n",
    "In this step we create or replace the tables in the database. We have four tables, two are for training the model and two are for testing. We used a random training testing split of 67% and 33%. This split seemed to be the optimal split, avoiding overfitting and underfitting.\n",
    "\n",
    "The main change from the data in the exploitation zone is the creation of dummy variables (one-hot encoding) for the district and month attributes. As they are categorical variables, we needed to perform one-hot encoding to be able to use them in the regression model.\n",
    "\n",
    "As mentioned in the analysis notebook, we have chosen these variables because they offered the best and balanced performance for the training and testing set.\n",
    "\n",
    "<b>X_train</b> (Explanatory variables of training set):\n",
    "<ul>\n",
    "  <li>Shoplifting Count</li>\n",
    "  <li>Vehicle crime Count</li>\n",
    "  <li>Violence and sexual offences Count</li>\n",
    "  <li>Anti-social behaviour Count</li>\n",
    "  <li>Criminal damage and arson Count</li>\n",
    "  <li>Theft Count</li>\n",
    "  <li>Public order Count</li>\n",
    "  <li>Robbery Count</li>\n",
    "  <li>Other crime Count</li>\n",
    "  <li>Burglary Count</li>\n",
    "  <li>Drugs Count</li>\n",
    "  <li>Possession of weapons Count</li>\n",
    "  <li>Boston</li>\n",
    "  <li>East Lindsey</li>\n",
    "  <li>Lincoln</li>\n",
    "  <li>North Kesteven</li>\n",
    "  <li>South Holland</li>\n",
    "  <li>South Kesteven</li>\n",
    "  <li>West Lindsey</li>\n",
    "  <li>2021-09</li>\n",
    "  <li>2021-10</li>\n",
    "  <li>2021-11</li>\n",
    "  <li>2021-12</li>\n",
    "  <li>2022-01</li>\n",
    "  <li>2022-02</li>\n",
    "  <li>2022-03</li>\n",
    "  <li>2022-04</li>\n",
    "  <li>2022-05</li>\n",
    "</ul>\n",
    "\n",
    "<b>y_train</b> (Response variable of training set)\n",
    "<ul>\n",
    "  <li>AveragePrice</li>\n",
    "</ul>\n",
    "\n",
    "<b>X_test</b> (Explanatory variables of testing set):\n",
    "<ul>\n",
    "  <li>Shoplifting Count</li>\n",
    "  <li>Vehicle crime Count</li>\n",
    "  <li>Violence and sexual offences Count</li>\n",
    "  <li>Anti-social behaviour Count</li>\n",
    "  <li>Criminal damage and arson Count</li>\n",
    "  <li>Theft Count</li>\n",
    "  <li>Public order Count</li>\n",
    "  <li>Robbery Count</li>\n",
    "  <li>Other crime Count</li>\n",
    "  <li>Burglary Count</li>\n",
    "  <li>Drugs Count</li>\n",
    "  <li>Possession of weapons Count</li>\n",
    "  <li>Boston</li>\n",
    "  <li>East Lindsey</li>\n",
    "  <li>Lincoln</li>\n",
    "  <li>North Kesteven</li>\n",
    "  <li>South Holland</li>\n",
    "  <li>South Kesteven</li>\n",
    "  <li>West Lindsey</li>\n",
    "  <li>2021-09</li>\n",
    "  <li>2021-10</li>\n",
    "  <li>2021-11</li>\n",
    "  <li>2021-12</li>\n",
    "  <li>2022-01</li>\n",
    "  <li>2022-02</li>\n",
    "  <li>2022-03</li>\n",
    "  <li>2022-04</li>\n",
    "  <li>2022-05</li>\n",
    "</ul>\n",
    "\n",
    "<b>y_test</b> (Response variable of testing set)\n",
    "<ul>\n",
    "  <li>AveragePrice</li>\n",
    "</ul>"
   ]
  },
  {
   "cell_type": "code",
   "execution_count": 4,
   "metadata": {},
   "outputs": [
    {
     "name": "stdout",
     "output_type": "stream",
     "text": [
      "      name\n",
      "0   X_test\n",
      "1  X_train\n",
      "2   y_test\n",
      "3  y_train\n"
     ]
    }
   ],
   "source": [
    "import duckdb\n",
    "\n",
    "con = duckdb.connect(\"../../data/analyticalSandbox/crimesPrices.db\")\n",
    "tables = con.execute(\"SHOW TABLES\").df()\n",
    "print(tables)\n",
    "con.close()"
   ]
  }
 ],
 "metadata": {
  "kernelspec": {
   "display_name": "Python 3",
   "language": "python",
   "name": "python3"
  },
  "language_info": {
   "codemirror_mode": {
    "name": "ipython",
    "version": 3
   },
   "file_extension": ".py",
   "mimetype": "text/x-python",
   "name": "python",
   "nbconvert_exporter": "python",
   "pygments_lexer": "ipython3",
   "version": "3.11.1 (v3.11.1:a7a450f84a, Dec  6 2022, 15:24:06) [Clang 13.0.0 (clang-1300.0.29.30)]"
  },
  "orig_nbformat": 4,
  "vscode": {
   "interpreter": {
    "hash": "aee8b7b246df8f9039afb4144a1f6fd8d2ca17a180786b69acc140d282b71a49"
   }
  }
 },
 "nbformat": 4,
 "nbformat_minor": 2
}
